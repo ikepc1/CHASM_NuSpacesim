{
 "cells": [
  {
   "cell_type": "markdown",
   "metadata": {},
   "source": [
    "# CHASM (CHerenkov Air Shower Model) Demo\n",
    "## Hypothetical Tau Primary Upward Air Shower\n",
    "This notebook shows how to use the CHASM program to simulate the Cerenkov light profile of an air shower using universality. First import some stuff we'll need, including CHASM itself."
   ]
  },
  {
   "cell_type": "code",
   "execution_count": 1,
   "metadata": {},
   "outputs": [],
   "source": [
    "import numpy as np\n",
    "import matplotlib.pyplot as plt\n",
    "import CHASM as ch"
   ]
  },
  {
   "cell_type": "markdown",
   "metadata": {},
   "source": [
    "Now we need to define our array of telescopes. These need to be ahead of the shower to see any Cherenkov light. The origin of the CHASM coordinate system is where the shower axis intersects with Earth's surface. The z axis is vertical from that point, x axis is north, and y axis is west. It is convenient to define the shower axis using spherical coordinates, where we use the standard physics convention (theta is the polar angle measured down from the z axis). \n",
    "\n",
    "In this case, we will be simulating an tau primary air shower (upward going) from the charged-current decay of an Earth skimming tau neutrino. We want to simulate detectors in orbit, ~500 km above Earth's surface, which corresponds to ~2000 km along an axis with an 85 degree polar angle (see figure below). We create an array of detectors perpendicular to the shower axis (arrayed on the y axis) at this point in space."
   ]
  },
  {
   "cell_type": "code",
   "execution_count": 2,
   "metadata": {},
   "outputs": [],
   "source": [
    "r = 2141673\n",
    "theta = np.radians(85)\n",
    "arc = np.radians(2)\n",
    "phi = 0\n",
    "Nxc = 12\n",
    "Nyc = 12\n",
    "\n",
    "phis = np.linspace(-arc,arc,Nxc)\n",
    "thetas = np.linspace(theta-arc,theta+arc,Nyc)\n",
    "counters = np.empty([Nxc*Nyc,3])\n",
    "theta_tel, phi_tel = np.meshgrid(thetas,phis)\n",
    "\n",
    "counters[:,0] = r * np.sin(theta_tel.flatten()) * np.cos(phi_tel.flatten())\n",
    "counters[:,1] = r * np.sin(theta_tel.flatten()) * np.sin(phi_tel.flatten())\n",
    "counters[:,2] = r * np.cos(theta_tel.flatten())"
   ]
  },
  {
   "cell_type": "markdown",
   "metadata": {},
   "source": [
    "First we instantiate the simulation:"
   ]
  },
  {
   "cell_type": "code",
   "execution_count": 3,
   "metadata": {},
   "outputs": [],
   "source": [
    "sim = ch.ShowerSimulation()"
   ]
  },
  {
   "cell_type": "markdown",
   "metadata": {},
   "source": [
    "Now we can add things to the simulation using the sim.add() method. First we'll add an axis using the same theta and phi we used to place the array of orbital counters. Since this is an upward shower, we add an upward axis. Since the zenith angle is large (>60 degrees) we must use a curved atmosphere."
   ]
  },
  {
   "cell_type": "code",
   "execution_count": 4,
   "metadata": {},
   "outputs": [],
   "source": [
    "sim.add(ch.UpwardAxis(theta,phi,curved=True))"
   ]
  },
  {
   "cell_type": "markdown",
   "metadata": {},
   "source": [
    "Now we need a shower. In this example we're using a shower defined by Gaisser (RIP) Hillas parameters. The first argument is X_max, the second is N_max, the third is X_0, and the fourth is Lambda. Alternatively, one could add a shower defined by an array of shower sizes at an array of corresponding depths."
   ]
  },
  {
   "cell_type": "code",
   "execution_count": 5,
   "metadata": {},
   "outputs": [],
   "source": [
    "sim.add(ch.GHShower(666.,6e7,0.,70.))"
   ]
  },
  {
   "cell_type": "markdown",
   "metadata": {},
   "source": [
    "Now we add our counters. They must be an array of cartesian vectors. The second argument is the surface area of a telescope's aperture in meters squared."
   ]
  },
  {
   "cell_type": "code",
   "execution_count": 6,
   "metadata": {},
   "outputs": [],
   "source": [
    "sim.add(ch.SphericalCounters(counters, 1.))"
   ]
  },
  {
   "cell_type": "markdown",
   "metadata": {},
   "source": [
    "Finally, we need to define the Cherenkov wavelength interval accepted by the detectors. The first argument is the minimum Cherenkov wavelength in nanometers, the second is the maximum."
   ]
  },
  {
   "cell_type": "code",
   "execution_count": 7,
   "metadata": {},
   "outputs": [],
   "source": [
    "sim.add(ch.Yield(300,450))"
   ]
  },
  {
   "cell_type": "markdown",
   "metadata": {},
   "source": [
    "Now we can run, creating the objects which store the actual Cherenkov signals."
   ]
  },
  {
   "cell_type": "code",
   "execution_count": 8,
   "metadata": {},
   "outputs": [],
   "source": [
    "sig = sim.run(mesh=True)"
   ]
  },
  {
   "cell_type": "markdown",
   "metadata": {},
   "source": [
    "Let's plot the Cherenkov signal at the counters."
   ]
  },
  {
   "cell_type": "code",
   "execution_count": 9,
   "metadata": {
    "scrolled": true
   },
   "outputs": [
    {
     "ename": "AxisError",
     "evalue": "axis 2 is out of bounds for array of dimension 2",
     "output_type": "error",
     "traceback": [
      "\u001b[0;31m---------------------------------------------------------------------------\u001b[0m",
      "\u001b[0;31mAxisError\u001b[0m                                 Traceback (most recent call last)",
      "Cell \u001b[0;32mIn[9], line 4\u001b[0m\n\u001b[1;32m      2\u001b[0m cx \u001b[38;5;241m=\u001b[39m r\u001b[38;5;241m*\u001b[39mphi_tel\u001b[38;5;241m.\u001b[39mflatten()\u001b[38;5;241m*\u001b[39m\u001b[38;5;241m1.e-3\u001b[39m\n\u001b[1;32m      3\u001b[0m cy \u001b[38;5;241m=\u001b[39m r\u001b[38;5;241m*\u001b[39mtheta_tel\u001b[38;5;241m.\u001b[39mflatten()\u001b[38;5;241m*\u001b[39m\u001b[38;5;241m1.e-3\u001b[39m\n\u001b[0;32m----> 4\u001b[0m h2d \u001b[38;5;241m=\u001b[39m plt\u001b[38;5;241m.\u001b[39mhist2d(cx,cy\u001b[38;5;241m-\u001b[39mnp\u001b[38;5;241m.\u001b[39mmedian(cy),weights\u001b[38;5;241m=\u001b[39m\u001b[43msig\u001b[49m\u001b[38;5;241;43m.\u001b[39;49m\u001b[43mphotons\u001b[49m\u001b[38;5;241;43m.\u001b[39;49m\u001b[43msum\u001b[49m\u001b[43m(\u001b[49m\u001b[43maxis\u001b[49m\u001b[38;5;241;43m=\u001b[39;49m\u001b[38;5;241;43m1\u001b[39;49m\u001b[43m)\u001b[49m\u001b[38;5;241;43m.\u001b[39;49m\u001b[43msum\u001b[49m\u001b[43m(\u001b[49m\u001b[43maxis\u001b[49m\u001b[38;5;241;43m=\u001b[39;49m\u001b[38;5;241;43m2\u001b[39;49m\u001b[43m)\u001b[49m,bins\u001b[38;5;241m=\u001b[39mNxc, cmap\u001b[38;5;241m=\u001b[39mplt\u001b[38;5;241m.\u001b[39mcm\u001b[38;5;241m.\u001b[39mjet)\n\u001b[1;32m      5\u001b[0m plt\u001b[38;5;241m.\u001b[39mtitle(\u001b[38;5;124m'\u001b[39m\u001b[38;5;124mCherenkov Upward Shower footprint at ~500km\u001b[39m\u001b[38;5;124m'\u001b[39m)\n\u001b[1;32m      6\u001b[0m plt\u001b[38;5;241m.\u001b[39mxlabel(\u001b[38;5;124m'\u001b[39m\u001b[38;5;124mCounter Plane X-axis (km)\u001b[39m\u001b[38;5;124m'\u001b[39m)\n",
      "File \u001b[0;32m~/anaconda3/envs/py11/lib/python3.11/site-packages/numpy/core/_methods.py:49\u001b[0m, in \u001b[0;36m_sum\u001b[0;34m(a, axis, dtype, out, keepdims, initial, where)\u001b[0m\n\u001b[1;32m     47\u001b[0m \u001b[38;5;28;01mdef\u001b[39;00m \u001b[38;5;21m_sum\u001b[39m(a, axis\u001b[38;5;241m=\u001b[39m\u001b[38;5;28;01mNone\u001b[39;00m, dtype\u001b[38;5;241m=\u001b[39m\u001b[38;5;28;01mNone\u001b[39;00m, out\u001b[38;5;241m=\u001b[39m\u001b[38;5;28;01mNone\u001b[39;00m, keepdims\u001b[38;5;241m=\u001b[39m\u001b[38;5;28;01mFalse\u001b[39;00m,\n\u001b[1;32m     48\u001b[0m          initial\u001b[38;5;241m=\u001b[39m_NoValue, where\u001b[38;5;241m=\u001b[39m\u001b[38;5;28;01mTrue\u001b[39;00m):\n\u001b[0;32m---> 49\u001b[0m     \u001b[38;5;28;01mreturn\u001b[39;00m umr_sum(a, axis, dtype, out, keepdims, initial, where)\n",
      "\u001b[0;31mAxisError\u001b[0m: axis 2 is out of bounds for array of dimension 2"
     ]
    },
    {
     "data": {
      "text/plain": [
       "<Figure size 640x480 with 0 Axes>"
      ]
     },
     "metadata": {},
     "output_type": "display_data"
    }
   ],
   "source": [
    "fig = plt.figure()\n",
    "cx = r*phi_tel.flatten()*1.e-3\n",
    "cy = r*theta_tel.flatten()*1.e-3\n",
    "h2d = plt.hist2d(cx,cy-np.median(cy),weights=sig.photons.sum(axis=2).sum(axis=1),bins=Nxc, cmap=plt.cm.jet)\n",
    "plt.title('Cherenkov Upward Shower footprint at ~500km')\n",
    "plt.xlabel('Counter Plane X-axis (km)')\n",
    "plt.ylabel('Counter Plane Y-axis (km)')\n",
    "ax = plt.gca()\n",
    "ax.set_aspect('equal')\n",
    "plt.colorbar(label = 'Number of Cherenkov Photons')"
   ]
  },
  {
   "cell_type": "code",
   "execution_count": null,
   "metadata": {},
   "outputs": [],
   "source": [
    "plt.figure()\n",
    "\n",
    "all_times = sig.signal_times\n",
    "all_photons = sig.signal_photons.sum(axis=1) #sum over wavelengths\n",
    "imax = all_photons.sum(axis=1).argmax()\n",
    "times = all_times[imax]\n",
    "photons = all_photons[imax]\n",
    "i = photons > .01\n",
    "\n",
    "ha = plt.hist(times[i],100, weights=photons[i], histtype='step',label='correction')\n",
    "\n",
    "sim.remove('axis')\n",
    "sim.add(ch.UpwardAxis(theta,phi,curved=False))\n",
    "sim.run(mesh=True)\n",
    "all_times = sig.times\n",
    "all_photons = sig.signal_photons.sum(axis=1) #sum over wavelengths\n",
    "imax = all_photons.sum(axis=1).argmax()\n",
    "times = all_times[imax]\n",
    "photons = all_photons[imax]\n",
    "i = photons > .01\n",
    "\n",
    "hb = plt.hist(times[i],100, weights=photons[i], histtype='step',label='no correction')\n",
    "\n",
    "plt.xlabel('ns')\n",
    "plt.ylabel('# of Cherenkov Photons')\n",
    "plt.legend()\n",
    "plt.title('Effect of Arrival Time Correction')\n"
   ]
  },
  {
   "cell_type": "code",
   "execution_count": null,
   "metadata": {},
   "outputs": [],
   "source": [
    "all_photons.shape"
   ]
  },
  {
   "cell_type": "code",
   "execution_count": null,
   "metadata": {},
   "outputs": [],
   "source": [
    "fig = plt.figure()\n",
    "plt.scatter(sig.axis[:,0],sig.axis[:,2],s=.1,c='b', alpha=0.2)\n",
    "plt.xlim(0,1.e6)\n",
    "plt.ylim(-.1e6,1.e6)"
   ]
  },
  {
   "cell_type": "code",
   "execution_count": null,
   "metadata": {},
   "outputs": [],
   "source": []
  },
  {
   "cell_type": "code",
   "execution_count": null,
   "metadata": {},
   "outputs": [],
   "source": []
  }
 ],
 "metadata": {
  "hide_input": false,
  "kernelspec": {
   "display_name": "Python 3 (ipykernel)",
   "language": "python",
   "name": "python3"
  },
  "language_info": {
   "codemirror_mode": {
    "name": "ipython",
    "version": 3
   },
   "file_extension": ".py",
   "mimetype": "text/x-python",
   "name": "python",
   "nbconvert_exporter": "python",
   "pygments_lexer": "ipython3",
   "version": "3.11.2"
  }
 },
 "nbformat": 4,
 "nbformat_minor": 4
}
